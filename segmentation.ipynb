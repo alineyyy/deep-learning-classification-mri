{
 "cells": [
  {
   "cell_type": "code",
   "execution_count": 1,
   "metadata": {},
   "outputs": [],
   "source": [
    "import cv2 as cv\n",
    "import numpy as np\n",
    "import pandas as pd\n",
    "\n",
    "import matplotlib.pyplot as plt\n",
    "import os\n",
    "import sys\n",
    "\n",
    "import nibabel as nib \n",
    "import imageio \n",
    "from PIL import Image\n",
    "from sklearn.model_selection import train_test_split\n",
    "\n",
    "import tensorflow as tf\n",
    "from tensorflow.keras.layers import *\n",
    "from tensorflow.keras.models import Model\n",
    "from tensorboard.plugins import projector\n",
    "from tensorflow.keras.optimizers import Adam\n",
    "from tensorflow.keras.losses import BinaryCrossentropy\n",
    "from tensorflow.keras import layers, regularizers\n",
    "\n",
    "from tensorflow.keras.optimizers import Adagrad\n",
    "import tensorlayer as tl"
   ]
  },
  {
   "cell_type": "code",
   "execution_count": 2,
   "metadata": {},
   "outputs": [
    {
     "data": {
      "text/plain": [
       "[PhysicalDevice(name='/physical_device:GPU:0', device_type='GPU')]"
      ]
     },
     "execution_count": 2,
     "metadata": {},
     "output_type": "execute_result"
    }
   ],
   "source": [
    "tf.config.list_physical_devices('GPU')"
   ]
  },
  {
   "cell_type": "code",
   "execution_count": 3,
   "metadata": {},
   "outputs": [],
   "source": [
    "#read 2D slices of raw data\n",
    "dirname = \"./Train_img\"\n",
    "Img = []\n",
    "\n",
    "for root,dirs,files in os.walk(dirname):\n",
    "    for file in files:\n",
    "        s = root[-3:]\n",
    "        if s != 'seg': # find the folder with data without labels\n",
    "          img_path = os.path.join(root,file)\n",
    "          #print(img_path)\n",
    "          img = cv.imread(img_path,cv.IMREAD_GRAYSCALE)\n",
    "          img = cv.bitwise_not(img)\n",
    "          img = cv. resize(img, (256,256))\n",
    "          Img.append(img)\n",
    "          \n",
    "\n",
    "\n",
    "\n"
   ]
  },
  {
   "cell_type": "code",
   "execution_count": 4,
   "metadata": {},
   "outputs": [
    {
     "data": {
      "text/plain": [
       "(1902, 256, 256)"
      ]
     },
     "execution_count": 4,
     "metadata": {},
     "output_type": "execute_result"
    }
   ],
   "source": [
    "#read slices with labels for RV and myocardial parts only\n",
    "dirname = \"./Mask_noLV\"\n",
    "Img_noLV = []\n",
    "\n",
    "for root,dirs,files in os.walk(dirname):\n",
    "    for file in files:\n",
    "          img_path = os.path.join(root,file)\n",
    "          #print(img_path)\n",
    "          img = cv.imread(img_path,cv.IMREAD_GRAYSCALE)\n",
    "          img = cv.bitwise_not(img)\n",
    "          img = cv. resize(img, (256,256))\n",
    "          Img_noLV.append(img)\n",
    "\n",
    "Img_noLV = np.array(Img_noLV)\n",
    "Img_noLV.shape"
   ]
  },
  {
   "cell_type": "code",
   "execution_count": null,
   "metadata": {},
   "outputs": [],
   "source": [
    "#load the mask with only the LV label      \n",
    "dirname = \"./Mask_LV\"\n",
    "mask_Lv = []\n",
    "\n",
    "for root,dirs,files in os.walk(dirname):\n",
    "    for file in files:\n",
    "          img_path = os.path.join(root,file)\n",
    "          #print(img_path)\n",
    "          img = cv.imread(img_path,cv.IMREAD_GRAYSCALE)\n",
    "          img = cv. resize(img, (256,256))\n",
    "          mask_Lv.append( img)\n",
    "Img = np.array(Img)\n",
    "mask_Lv = np.array(mask_Lv)"
   ]
  },
  {
   "cell_type": "code",
   "execution_count": 15,
   "metadata": {},
   "outputs": [],
   "source": [
    "# definition of the network\n",
    "def conv_block(input_tensor, num_filters):\n",
    "    encoder = Conv2D(num_filters, (3, 3), padding='same', kernel_initializer='he_normal')(input_tensor)\n",
    "    encoder = tf.keras.layers.BatchNormalization()(encoder)\n",
    "    encoder = tf.keras.layers.Activation('relu')(encoder)\n",
    "    encoder = Conv2D(num_filters, (3, 3), padding='same', kernel_initializer='he_normal')(encoder)\n",
    "    encoder = tf.keras.layers.BatchNormalization()(encoder)\n",
    "    encoder = tf.keras.layers.Activation('relu')(encoder)\n",
    "    #encoder = Dropout(0.5)(encoder)\n",
    "    return encoder\n",
    "\n",
    "def encoder_block(input_tensor, num_filters):\n",
    "    encoder = conv_block(input_tensor, num_filters)\n",
    "    #encoder = Dropout(0.5)(encoder)\n",
    "    encoder_pool = MaxPooling2D((2, 2), strides=(2, 2))(encoder)\n",
    "    return encoder_pool, encoder\n",
    "\n",
    "def decoder_block(input_tensor, concat_tensor, num_filters):\n",
    "    decoder = Conv2D(num_filters, (2, 2), padding='same', kernel_initializer='he_normal')(UpSampling2D((2, 2))(input_tensor))\n",
    "    decoder = Concatenate()([concat_tensor, decoder])\n",
    "    decoder = conv_block(decoder, num_filters)\n",
    "    return decoder\n",
    "\n",
    "def unet(input_shape=(256, 256, 1), num_classes=2):\n",
    "    inputs = Input(shape=input_shape)\n",
    "    # Encoder\n",
    "    encoder1_pool, encoder1 = encoder_block(inputs, 64)\n",
    "    encoder2_pool, encoder2 = encoder_block(encoder1_pool, 128)\n",
    "    encoder3_pool, encoder3 = encoder_block(encoder2_pool, 256)\n",
    "    encoder4_pool, encoder4 = encoder_block(encoder3_pool, 512)\n",
    "    center = conv_block(encoder4_pool, 1024)\n",
    "    # Decoder\n",
    "    decoder4 = decoder_block(center, encoder4, 512)\n",
    "    decoder3 = decoder_block(decoder4, encoder3, 256)\n",
    "    decoder2 = decoder_block(decoder3, encoder2, 128)\n",
    "    decoder1 = decoder_block(decoder2, encoder1, 64)\n",
    "    # Output\n",
    "    outputs = Conv2D(num_classes, (1, 1), activation='softmax')(decoder1)\n",
    "\n",
    "    model = Model(inputs=[inputs], outputs=[outputs])\n",
    "    return model"
   ]
  },
  {
   "cell_type": "code",
   "execution_count": 16,
   "metadata": {},
   "outputs": [
    {
     "name": "stdout",
     "output_type": "stream",
     "text": [
      "Model: \"model_2\"\n",
      "__________________________________________________________________________________________________\n",
      "Layer (type)                    Output Shape         Param #     Connected to                     \n",
      "==================================================================================================\n",
      "input_3 (InputLayer)            [(None, 256, 256, 1) 0                                            \n",
      "__________________________________________________________________________________________________\n",
      "conv2d_46 (Conv2D)              (None, 256, 256, 64) 640         input_3[0][0]                    \n",
      "__________________________________________________________________________________________________\n",
      "batch_normalization_36 (BatchNo (None, 256, 256, 64) 256         conv2d_46[0][0]                  \n",
      "__________________________________________________________________________________________________\n",
      "activation_36 (Activation)      (None, 256, 256, 64) 0           batch_normalization_36[0][0]     \n",
      "__________________________________________________________________________________________________\n",
      "conv2d_47 (Conv2D)              (None, 256, 256, 64) 36928       activation_36[0][0]              \n",
      "__________________________________________________________________________________________________\n",
      "batch_normalization_37 (BatchNo (None, 256, 256, 64) 256         conv2d_47[0][0]                  \n",
      "__________________________________________________________________________________________________\n",
      "activation_37 (Activation)      (None, 256, 256, 64) 0           batch_normalization_37[0][0]     \n",
      "__________________________________________________________________________________________________\n",
      "max_pooling2d_8 (MaxPooling2D)  (None, 128, 128, 64) 0           activation_37[0][0]              \n",
      "__________________________________________________________________________________________________\n",
      "conv2d_48 (Conv2D)              (None, 128, 128, 128 73856       max_pooling2d_8[0][0]            \n",
      "__________________________________________________________________________________________________\n",
      "batch_normalization_38 (BatchNo (None, 128, 128, 128 512         conv2d_48[0][0]                  \n",
      "__________________________________________________________________________________________________\n",
      "activation_38 (Activation)      (None, 128, 128, 128 0           batch_normalization_38[0][0]     \n",
      "__________________________________________________________________________________________________\n",
      "conv2d_49 (Conv2D)              (None, 128, 128, 128 147584      activation_38[0][0]              \n",
      "__________________________________________________________________________________________________\n",
      "batch_normalization_39 (BatchNo (None, 128, 128, 128 512         conv2d_49[0][0]                  \n",
      "__________________________________________________________________________________________________\n",
      "activation_39 (Activation)      (None, 128, 128, 128 0           batch_normalization_39[0][0]     \n",
      "__________________________________________________________________________________________________\n",
      "max_pooling2d_9 (MaxPooling2D)  (None, 64, 64, 128)  0           activation_39[0][0]              \n",
      "__________________________________________________________________________________________________\n",
      "conv2d_50 (Conv2D)              (None, 64, 64, 256)  295168      max_pooling2d_9[0][0]            \n",
      "__________________________________________________________________________________________________\n",
      "batch_normalization_40 (BatchNo (None, 64, 64, 256)  1024        conv2d_50[0][0]                  \n",
      "__________________________________________________________________________________________________\n",
      "activation_40 (Activation)      (None, 64, 64, 256)  0           batch_normalization_40[0][0]     \n",
      "__________________________________________________________________________________________________\n",
      "conv2d_51 (Conv2D)              (None, 64, 64, 256)  590080      activation_40[0][0]              \n",
      "__________________________________________________________________________________________________\n",
      "batch_normalization_41 (BatchNo (None, 64, 64, 256)  1024        conv2d_51[0][0]                  \n",
      "__________________________________________________________________________________________________\n",
      "activation_41 (Activation)      (None, 64, 64, 256)  0           batch_normalization_41[0][0]     \n",
      "__________________________________________________________________________________________________\n",
      "max_pooling2d_10 (MaxPooling2D) (None, 32, 32, 256)  0           activation_41[0][0]              \n",
      "__________________________________________________________________________________________________\n",
      "conv2d_52 (Conv2D)              (None, 32, 32, 512)  1180160     max_pooling2d_10[0][0]           \n",
      "__________________________________________________________________________________________________\n",
      "batch_normalization_42 (BatchNo (None, 32, 32, 512)  2048        conv2d_52[0][0]                  \n",
      "__________________________________________________________________________________________________\n",
      "activation_42 (Activation)      (None, 32, 32, 512)  0           batch_normalization_42[0][0]     \n",
      "__________________________________________________________________________________________________\n",
      "conv2d_53 (Conv2D)              (None, 32, 32, 512)  2359808     activation_42[0][0]              \n",
      "__________________________________________________________________________________________________\n",
      "batch_normalization_43 (BatchNo (None, 32, 32, 512)  2048        conv2d_53[0][0]                  \n",
      "__________________________________________________________________________________________________\n",
      "activation_43 (Activation)      (None, 32, 32, 512)  0           batch_normalization_43[0][0]     \n",
      "__________________________________________________________________________________________________\n",
      "max_pooling2d_11 (MaxPooling2D) (None, 16, 16, 512)  0           activation_43[0][0]              \n",
      "__________________________________________________________________________________________________\n",
      "conv2d_54 (Conv2D)              (None, 16, 16, 1024) 4719616     max_pooling2d_11[0][0]           \n",
      "__________________________________________________________________________________________________\n",
      "batch_normalization_44 (BatchNo (None, 16, 16, 1024) 4096        conv2d_54[0][0]                  \n",
      "__________________________________________________________________________________________________\n",
      "activation_44 (Activation)      (None, 16, 16, 1024) 0           batch_normalization_44[0][0]     \n",
      "__________________________________________________________________________________________________\n",
      "conv2d_55 (Conv2D)              (None, 16, 16, 1024) 9438208     activation_44[0][0]              \n",
      "__________________________________________________________________________________________________\n",
      "batch_normalization_45 (BatchNo (None, 16, 16, 1024) 4096        conv2d_55[0][0]                  \n",
      "__________________________________________________________________________________________________\n",
      "activation_45 (Activation)      (None, 16, 16, 1024) 0           batch_normalization_45[0][0]     \n",
      "__________________________________________________________________________________________________\n",
      "up_sampling2d_8 (UpSampling2D)  (None, 32, 32, 1024) 0           activation_45[0][0]              \n",
      "__________________________________________________________________________________________________\n",
      "conv2d_56 (Conv2D)              (None, 32, 32, 512)  2097664     up_sampling2d_8[0][0]            \n",
      "__________________________________________________________________________________________________\n",
      "concatenate_8 (Concatenate)     (None, 32, 32, 1024) 0           activation_43[0][0]              \n",
      "                                                                 conv2d_56[0][0]                  \n",
      "__________________________________________________________________________________________________\n",
      "conv2d_57 (Conv2D)              (None, 32, 32, 512)  4719104     concatenate_8[0][0]              \n",
      "__________________________________________________________________________________________________\n",
      "batch_normalization_46 (BatchNo (None, 32, 32, 512)  2048        conv2d_57[0][0]                  \n",
      "__________________________________________________________________________________________________\n",
      "activation_46 (Activation)      (None, 32, 32, 512)  0           batch_normalization_46[0][0]     \n",
      "__________________________________________________________________________________________________\n",
      "conv2d_58 (Conv2D)              (None, 32, 32, 512)  2359808     activation_46[0][0]              \n",
      "__________________________________________________________________________________________________\n",
      "batch_normalization_47 (BatchNo (None, 32, 32, 512)  2048        conv2d_58[0][0]                  \n",
      "__________________________________________________________________________________________________\n",
      "activation_47 (Activation)      (None, 32, 32, 512)  0           batch_normalization_47[0][0]     \n",
      "__________________________________________________________________________________________________\n",
      "up_sampling2d_9 (UpSampling2D)  (None, 64, 64, 512)  0           activation_47[0][0]              \n",
      "__________________________________________________________________________________________________\n",
      "conv2d_59 (Conv2D)              (None, 64, 64, 256)  524544      up_sampling2d_9[0][0]            \n",
      "__________________________________________________________________________________________________\n",
      "concatenate_9 (Concatenate)     (None, 64, 64, 512)  0           activation_41[0][0]              \n",
      "                                                                 conv2d_59[0][0]                  \n",
      "__________________________________________________________________________________________________\n",
      "conv2d_60 (Conv2D)              (None, 64, 64, 256)  1179904     concatenate_9[0][0]              \n",
      "__________________________________________________________________________________________________\n",
      "batch_normalization_48 (BatchNo (None, 64, 64, 256)  1024        conv2d_60[0][0]                  \n",
      "__________________________________________________________________________________________________\n",
      "activation_48 (Activation)      (None, 64, 64, 256)  0           batch_normalization_48[0][0]     \n",
      "__________________________________________________________________________________________________\n",
      "conv2d_61 (Conv2D)              (None, 64, 64, 256)  590080      activation_48[0][0]              \n",
      "__________________________________________________________________________________________________\n",
      "batch_normalization_49 (BatchNo (None, 64, 64, 256)  1024        conv2d_61[0][0]                  \n",
      "__________________________________________________________________________________________________\n",
      "activation_49 (Activation)      (None, 64, 64, 256)  0           batch_normalization_49[0][0]     \n",
      "__________________________________________________________________________________________________\n",
      "up_sampling2d_10 (UpSampling2D) (None, 128, 128, 256 0           activation_49[0][0]              \n",
      "__________________________________________________________________________________________________\n",
      "conv2d_62 (Conv2D)              (None, 128, 128, 128 131200      up_sampling2d_10[0][0]           \n",
      "__________________________________________________________________________________________________\n",
      "concatenate_10 (Concatenate)    (None, 128, 128, 256 0           activation_39[0][0]              \n",
      "                                                                 conv2d_62[0][0]                  \n",
      "__________________________________________________________________________________________________\n",
      "conv2d_63 (Conv2D)              (None, 128, 128, 128 295040      concatenate_10[0][0]             \n",
      "__________________________________________________________________________________________________\n",
      "batch_normalization_50 (BatchNo (None, 128, 128, 128 512         conv2d_63[0][0]                  \n",
      "__________________________________________________________________________________________________\n",
      "activation_50 (Activation)      (None, 128, 128, 128 0           batch_normalization_50[0][0]     \n",
      "__________________________________________________________________________________________________\n",
      "conv2d_64 (Conv2D)              (None, 128, 128, 128 147584      activation_50[0][0]              \n",
      "__________________________________________________________________________________________________\n",
      "batch_normalization_51 (BatchNo (None, 128, 128, 128 512         conv2d_64[0][0]                  \n",
      "__________________________________________________________________________________________________\n",
      "activation_51 (Activation)      (None, 128, 128, 128 0           batch_normalization_51[0][0]     \n",
      "__________________________________________________________________________________________________\n",
      "up_sampling2d_11 (UpSampling2D) (None, 256, 256, 128 0           activation_51[0][0]              \n",
      "__________________________________________________________________________________________________\n",
      "conv2d_65 (Conv2D)              (None, 256, 256, 64) 32832       up_sampling2d_11[0][0]           \n",
      "__________________________________________________________________________________________________\n",
      "concatenate_11 (Concatenate)    (None, 256, 256, 128 0           activation_37[0][0]              \n",
      "                                                                 conv2d_65[0][0]                  \n",
      "__________________________________________________________________________________________________\n",
      "conv2d_66 (Conv2D)              (None, 256, 256, 64) 73792       concatenate_11[0][0]             \n",
      "__________________________________________________________________________________________________\n",
      "batch_normalization_52 (BatchNo (None, 256, 256, 64) 256         conv2d_66[0][0]                  \n",
      "__________________________________________________________________________________________________\n",
      "activation_52 (Activation)      (None, 256, 256, 64) 0           batch_normalization_52[0][0]     \n",
      "__________________________________________________________________________________________________\n",
      "conv2d_67 (Conv2D)              (None, 256, 256, 64) 36928       activation_52[0][0]              \n",
      "__________________________________________________________________________________________________\n",
      "batch_normalization_53 (BatchNo (None, 256, 256, 64) 256         conv2d_67[0][0]                  \n",
      "__________________________________________________________________________________________________\n",
      "activation_53 (Activation)      (None, 256, 256, 64) 0           batch_normalization_53[0][0]     \n",
      "__________________________________________________________________________________________________\n",
      "conv2d_68 (Conv2D)              (None, 256, 256, 2)  130         activation_53[0][0]              \n",
      "==================================================================================================\n",
      "Total params: 31,054,210\n",
      "Trainable params: 31,042,434\n",
      "Non-trainable params: 11,776\n",
      "__________________________________________________________________________________________________\n"
     ]
    }
   ],
   "source": [
    "from tensorflow.keras.optimizers import Adam\n",
    "\n",
    "seg_model = unet()\n",
    "\n",
    "seg_model.summary()\n",
    "\n"
   ]
  },
  {
   "cell_type": "code",
   "execution_count": 17,
   "metadata": {},
   "outputs": [],
   "source": [
    "# data are divided into training set, validation set and test set according to 0.6, 0.3 and 0.1.\n",
    "X_train, X_val, y_train, y_val = train_test_split(Img_noLV, mask_Lv, test_size=0.4, random_state=42)\n",
    "X_val, X_test, y_val, y_test = train_test_split(X_val, y_val, test_size=0.25, random_state=42)\n",
    "\n",
    "shape = X_train.shape[1]*X_train.shape[2]\n",
    "\n",
    "# change the data range to 0-1\n",
    "X_train = X_train/255\n",
    "y_train = y_train/255\n",
    "\n",
    "X_test = X_test/255\n",
    "y_test = y_test/255\n",
    "\n",
    "X_val = X_val/255\n",
    "y_val = y_val/255\n"
   ]
  },
  {
   "cell_type": "code",
   "execution_count": 18,
   "metadata": {},
   "outputs": [
    {
     "name": "stdout",
     "output_type": "stream",
     "text": [
      "(1141, 256, 256, 2)\n"
     ]
    }
   ],
   "source": [
    "# classification targets: LV and background\n",
    "n = 2\n",
    "\n",
    "# convert labels to one-hot encoding\n",
    "y_train = tf.keras.utils.to_categorical(y_train, num_classes=n)\n",
    "y_val = tf.keras.utils.to_categorical(y_val, num_classes=n)\n",
    "y_test = tf.keras.utils.to_categorical(y_test, num_classes=n)\n",
    "# confirm the shape after transformation\n",
    "print(y_train.shape)  "
   ]
  },
  {
   "cell_type": "code",
   "execution_count": 19,
   "metadata": {},
   "outputs": [],
   "source": [
    "# specify the visible GPU\n",
    "gpus = tf.config.experimental.list_physical_devices('GPU')\n",
    "\n",
    "tf.config.experimental.set_visible_devices(gpus[0], 'GPU')\n"
   ]
  },
  {
   "cell_type": "code",
   "execution_count": 10,
   "metadata": {},
   "outputs": [],
   "source": [
    "tf.random.set_seed(0)\n",
    "np.random.seed(0)"
   ]
  },
  {
   "cell_type": "code",
   "execution_count": null,
   "metadata": {},
   "outputs": [],
   "source": [
    "batch_size = 16\n",
    "epochs = 100\n",
    "\n",
    "\n",
    "seg_model = unet()\n",
    "#seg_model.compile(optimizer=Adam(lr=0.00001), loss=BinaryCrossentropy(), metrics=['accuracy'])\n",
    "seg_model.compile(optimizer=Adam(lr=0.00005), loss=BinaryCrossentropy(), metrics=['accuracy'])\n",
    "\n",
    "# train the model\n",
    "with tf.device('/GPU:0'):\n",
    "    history = seg_model.fit( X_train,\n",
    "                            y_train,\n",
    "                               epochs=epochs,\n",
    "                               #initial_epoch = 200,\n",
    "                               batch_size=batch_size,\n",
    "                               validation_batch_size = batch_size,\n",
    "                               validation_data = (X_val,y_val)\n",
    "                               )\n",
    "\n"
   ]
  },
  {
   "cell_type": "code",
   "execution_count": 28,
   "metadata": {},
   "outputs": [],
   "source": [
    "# save the weights\n",
    "seg_model.save_weights('0427_seg(inputmask).h5')"
   ]
  },
  {
   "cell_type": "code",
   "execution_count": 21,
   "metadata": {},
   "outputs": [
    {
     "data": {
      "text/plain": [
       "<matplotlib.legend.Legend at 0x20cbbb67b88>"
      ]
     },
     "execution_count": 21,
     "metadata": {},
     "output_type": "execute_result"
    },
    {
     "data": {
      "image/png": "[encoded data removed]",
      "text/plain": [
       "<Figure size 640x480 with 1 Axes>"
      ]
     },
     "metadata": {},
     "output_type": "display_data"
    }
   ],
   "source": [
    "plt.plot(history.epoch, history.history.get('loss'),label='loss')\n",
    "plt.plot(history.epoch, history.history.get('val_loss'),label='val_loss')\n",
    "plt.legend()\n"
   ]
  },
  {
   "cell_type": "code",
   "execution_count": 22,
   "metadata": {},
   "outputs": [
    {
     "data": {
      "text/plain": [
       "<matplotlib.legend.Legend at 0x20cbbc36808>"
      ]
     },
     "execution_count": 22,
     "metadata": {},
     "output_type": "execute_result"
    },
    {
     "data": {
      "image/png": "[encoded data removed]",
      "text/plain": [
       "<Figure size 640x480 with 1 Axes>"
      ]
     },
     "metadata": {},
     "output_type": "display_data"
    }
   ],
   "source": [
    "plt.plot(history.epoch, history.history.get('accuracy'),label='acc')\n",
    "plt.plot(history.epoch, history.history.get('val_accuracy'),label='val_acc')\n",
    "plt.legend()\n"
   ]
  },
  {
   "cell_type": "code",
   "execution_count": 29,
   "metadata": {},
   "outputs": [
    {
     "name": "stdout",
     "output_type": "stream",
     "text": [
      "6/6 [==============================] - 3s 496ms/step - loss: 0.0018 - accuracy: 1.0000\n"
     ]
    },
    {
     "data": {
      "text/plain": [
       "[0.0017841719090938568, 0.9999642968177795]"
      ]
     },
     "execution_count": 29,
     "metadata": {},
     "output_type": "execute_result"
    }
   ],
   "source": [
    "# evaluate the model by the test set\n",
    "seg_model.evaluate(X_test,y_test)"
   ]
  },
  {
   "cell_type": "code",
   "execution_count": 24,
   "metadata": {},
   "outputs": [],
   "source": [
    "\n",
    "\n",
    "# Load the trained model\n",
    "model = unet()\n",
    "\n",
    "model.compile(optimizer=Adam(lr=0.00005), loss=BinaryCrossentropy(), metrics=['accuracy'])\n",
    "\n",
    "model.load_weights('0427_seg(inputmask).h5')\n",
    "\n"
   ]
  },
  {
   "cell_type": "code",
   "execution_count": null,
   "metadata": {},
   "outputs": [],
   "source": [
    "# predict using trained models\n",
    "# iterate through folders to make predictions\n",
    "dirname = \"./Test_img\"\n",
    "test_img = []\n",
    "mask_nolv= []\n",
    "for root,dirs,files in os.walk(dirname):\n",
    "    for file in files:\n",
    "    \n",
    "        s = root[-3:]\n",
    "        if s != 'seg': #find the folder with data without labels\n",
    "            img_path = os.path.join(root,file)\n",
    "            print(img_path)\n",
    "            img = cv.imread(img_path,cv.IMREAD_GRAYSCALE)\n",
    "            img = cv.bitwise_not(img)\n",
    "            img = cv. resize(img, (256,256))\n",
    "            img = np.expand_dims(img,axis=0)\n",
    "            print(img.shape)\n",
    "            test_img = img/255\n",
    "\n",
    "            root_seg = root + '_seg'\n",
    "            img_path = os.path.join(root_seg,file)\n",
    "            print(img_path)\n",
    "            img = cv.imread(img_path,cv.IMREAD_GRAYSCALE)\n",
    "            img = cv.bitwise_not(img)\n",
    "            img = cv. resize(img, (256,256))\n",
    "            img = np.expand_dims(img,axis=0)\n",
    "            print(img.shape)\n",
    "            mask_img = img/255\n",
    "            \n",
    "            test_img = np.array(test_img)\n",
    "            mask_img = np.array(mask_img)\n",
    "            print(test_img.shape, mask_img.shape)\n",
    "\n",
    "            prediction = model.predict(mask_img) #predict\n",
    "            print(prediction.shape)\n",
    "            img = prediction[0,:,:,1] *255\n",
    "            \n",
    "            print(root[-6:])\n",
    "            result_path = os.path.join('./Test_Mask_LV(input_mask)',root[-6:])\n",
    "            if not os.path.exists(result_path):\n",
    "                os.mkdir(result_path)\n",
    "            cv.imwrite(os.path.join(result_path,file),  img) #写入 mask_lv3.0/00x_Ex_seg文件夹 0-255\n",
    "            mask = Image.open(os.path.join(result_path,file))\n",
    "            mask.save(os.path.join(result_path,file))\n",
    "            "
   ]
  },
  {
   "cell_type": "code",
   "execution_count": null,
   "metadata": {},
   "outputs": [],
   "source": [
    "# segment the prediction results by a threshold of 0.5\n",
    "dirname = \"./Test_Mask_LV(input_mask)\"\n",
    "\n",
    "for root,dirs,files in os.walk(dirname):\n",
    "    for file in files:\n",
    "          img_path = os.path.join(root,file)\n",
    "          print(img_path)\n",
    "          img = cv.imread(img_path,cv.IMREAD_GRAYSCALE)\n",
    "          #print(img)\n",
    "          for i in range(img.shape[0]):\n",
    "            for j in range(img.shape[1]):\n",
    "              if img[i][j] > 128 : #255对应的01 右心室\n",
    "                img[i][j] = 255\n",
    "              else:\n",
    "                img[i][j] = 0\n",
    "          result_path = os.path.join('./Test_Mask_LV',root[-6:])\n",
    "          if not os.path.exists(result_path):\n",
    "              os.mkdir(result_path)\n",
    "          imageio.imwrite(os.path.join(result_path,file), img) #写入 mask_rv/00x_Ex_seg文件夹 0-255\n",
    "          mask = Image.open(os.path.join(result_path,file))\n",
    "          mask.save(os.path.join(result_path,file))\n"
   ]
  }
 ],
 "metadata": {
  "kernelspec": {
   "display_name": "Python 3.7.16 ('tf-gpu')",
   "language": "python",
   "name": "python3"
  },
  "language_info": {
   "codemirror_mode": {
    "name": "ipython",
    "version": 3
   },
   "file_extension": ".py",
   "mimetype": "text/x-python",
   "name": "python",
   "nbconvert_exporter": "python",
   "pygments_lexer": "ipython3",
   "version": "3.7.16"
  },
  "orig_nbformat": 4,
  "vscode": {
   "interpreter": {
    "hash": "ff0ef8c7b1a4b3eac563e4beea422a8f2967f773bbb1863636a8b87f766a2144"
   }
  }
 },
 "nbformat": 4,
 "nbformat_minor": 2
}
